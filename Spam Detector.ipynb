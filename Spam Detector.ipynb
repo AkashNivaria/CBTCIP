{
 "cells": [
  {
   "cell_type": "code",
   "execution_count": 1,
   "id": "1f702598",
   "metadata": {},
   "outputs": [],
   "source": [
    "# Importing required libraries\n",
    "# numpy to perform mathematical operations\n",
    "# pandas to perform data manipulation\n",
    "# train_test_split to split test and train data\n",
    "# TfidfVectorizer to transform text into a meaningful representation of numbers which is used to fit machine  algorithm for prediction.\n",
    "\n",
    "\n",
    "import numpy as np\n",
    "import pandas as pd\n",
    "from sklearn.model_selection import train_test_split\n",
    "from sklearn.feature_extraction.text import TfidfVectorizer\n",
    "\n",
    "from sklearn.metrics import accuracy_score"
   ]
  },
  {
   "cell_type": "code",
   "execution_count": 2,
   "id": "70cfeb75",
   "metadata": {},
   "outputs": [],
   "source": [
    "df = pd.read_excel('Spam Email Detection.xlsx')"
   ]
  },
  {
   "cell_type": "code",
   "execution_count": 3,
   "id": "62c84a61",
   "metadata": {},
   "outputs": [
    {
     "name": "stdout",
     "output_type": "stream",
     "text": [
      "        v1                                                 v2 Unnamed: 2  \\\n",
      "0      ham  Go until jurong point, crazy.. Available only ...        NaN   \n",
      "1      ham                      Ok lar... Joking wif u oni...        NaN   \n",
      "2     spam  Free entry in 2 a wkly comp to win FA Cup fina...        NaN   \n",
      "3      ham  U dun say so early hor... U c already then say...        NaN   \n",
      "4      ham  Nah I don't think he goes to usf, he lives aro...        NaN   \n",
      "...    ...                                                ...        ...   \n",
      "5567  spam  This is the 2nd time we have tried 2 contact u...        NaN   \n",
      "5568   ham              Will �_ b going to esplanade fr home?        NaN   \n",
      "5569   ham  Pity, * was in mood for that. So...any other s...        NaN   \n",
      "5570   ham  The guy did some bitching but I acted like i'd...        NaN   \n",
      "5571   ham                         Rofl. Its true to its name        NaN   \n",
      "\n",
      "     Unnamed: 3 Unnamed: 4  \n",
      "0           NaN        NaN  \n",
      "1           NaN        NaN  \n",
      "2           NaN        NaN  \n",
      "3           NaN        NaN  \n",
      "4           NaN        NaN  \n",
      "...         ...        ...  \n",
      "5567        NaN        NaN  \n",
      "5568        NaN        NaN  \n",
      "5569        NaN        NaN  \n",
      "5570        NaN        NaN  \n",
      "5571        NaN        NaN  \n",
      "\n",
      "[5572 rows x 5 columns]\n"
     ]
    }
   ],
   "source": [
    "print(df)"
   ]
  },
  {
   "cell_type": "code",
   "execution_count": 4,
   "id": "b92abd3a",
   "metadata": {},
   "outputs": [],
   "source": [
    "data = df.where((pd.notnull(df)),'')"
   ]
  },
  {
   "cell_type": "code",
   "execution_count": 5,
   "id": "f26c4670",
   "metadata": {},
   "outputs": [
    {
     "data": {
      "text/html": [
       "<div>\n",
       "<style scoped>\n",
       "    .dataframe tbody tr th:only-of-type {\n",
       "        vertical-align: middle;\n",
       "    }\n",
       "\n",
       "    .dataframe tbody tr th {\n",
       "        vertical-align: top;\n",
       "    }\n",
       "\n",
       "    .dataframe thead th {\n",
       "        text-align: right;\n",
       "    }\n",
       "</style>\n",
       "<table border=\"1\" class=\"dataframe\">\n",
       "  <thead>\n",
       "    <tr style=\"text-align: right;\">\n",
       "      <th></th>\n",
       "      <th>v1</th>\n",
       "      <th>v2</th>\n",
       "      <th>Unnamed: 2</th>\n",
       "      <th>Unnamed: 3</th>\n",
       "      <th>Unnamed: 4</th>\n",
       "    </tr>\n",
       "  </thead>\n",
       "  <tbody>\n",
       "    <tr>\n",
       "      <th>0</th>\n",
       "      <td>ham</td>\n",
       "      <td>Go until jurong point, crazy.. Available only ...</td>\n",
       "      <td></td>\n",
       "      <td></td>\n",
       "      <td></td>\n",
       "    </tr>\n",
       "    <tr>\n",
       "      <th>1</th>\n",
       "      <td>ham</td>\n",
       "      <td>Ok lar... Joking wif u oni...</td>\n",
       "      <td></td>\n",
       "      <td></td>\n",
       "      <td></td>\n",
       "    </tr>\n",
       "    <tr>\n",
       "      <th>2</th>\n",
       "      <td>spam</td>\n",
       "      <td>Free entry in 2 a wkly comp to win FA Cup fina...</td>\n",
       "      <td></td>\n",
       "      <td></td>\n",
       "      <td></td>\n",
       "    </tr>\n",
       "    <tr>\n",
       "      <th>3</th>\n",
       "      <td>ham</td>\n",
       "      <td>U dun say so early hor... U c already then say...</td>\n",
       "      <td></td>\n",
       "      <td></td>\n",
       "      <td></td>\n",
       "    </tr>\n",
       "    <tr>\n",
       "      <th>4</th>\n",
       "      <td>ham</td>\n",
       "      <td>Nah I don't think he goes to usf, he lives aro...</td>\n",
       "      <td></td>\n",
       "      <td></td>\n",
       "      <td></td>\n",
       "    </tr>\n",
       "  </tbody>\n",
       "</table>\n",
       "</div>"
      ],
      "text/plain": [
       "     v1                                                 v2 Unnamed: 2  \\\n",
       "0   ham  Go until jurong point, crazy.. Available only ...              \n",
       "1   ham                      Ok lar... Joking wif u oni...              \n",
       "2  spam  Free entry in 2 a wkly comp to win FA Cup fina...              \n",
       "3   ham  U dun say so early hor... U c already then say...              \n",
       "4   ham  Nah I don't think he goes to usf, he lives aro...              \n",
       "\n",
       "  Unnamed: 3 Unnamed: 4  \n",
       "0                        \n",
       "1                        \n",
       "2                        \n",
       "3                        \n",
       "4                        "
      ]
     },
     "execution_count": 5,
     "metadata": {},
     "output_type": "execute_result"
    }
   ],
   "source": [
    "\n",
    "data.head(5)"
   ]
  },
  {
   "cell_type": "code",
   "execution_count": 6,
   "id": "22d3989f",
   "metadata": {},
   "outputs": [],
   "source": [
    "#Converting categorical data into numerical data\n",
    "\n",
    "data.loc[data['v1']=='spam','v1',]=0\n",
    "data.loc[data['v1']=='ham','v1',]=1"
   ]
  },
  {
   "cell_type": "code",
   "execution_count": 7,
   "id": "4a3f4e72",
   "metadata": {},
   "outputs": [],
   "source": [
    "x= data['v2']\n",
    "y= data['v1']\n",
    "\n"
   ]
  },
  {
   "cell_type": "code",
   "execution_count": 8,
   "id": "3e93180a",
   "metadata": {},
   "outputs": [
    {
     "name": "stdout",
     "output_type": "stream",
     "text": [
      "0       Go until jurong point, crazy.. Available only ...\n",
      "1                           Ok lar... Joking wif u oni...\n",
      "2       Free entry in 2 a wkly comp to win FA Cup fina...\n",
      "3       U dun say so early hor... U c already then say...\n",
      "4       Nah I don't think he goes to usf, he lives aro...\n",
      "                              ...                        \n",
      "5567    This is the 2nd time we have tried 2 contact u...\n",
      "5568                Will �_ b going to esplanade fr home?\n",
      "5569    Pity, * was in mood for that. So...any other s...\n",
      "5570    The guy did some bitching but I acted like i'd...\n",
      "5571                           Rofl. Its true to its name\n",
      "Name: v2, Length: 5572, dtype: object\n"
     ]
    }
   ],
   "source": [
    "print(x)\n"
   ]
  },
  {
   "cell_type": "code",
   "execution_count": 38,
   "id": "f1c79ac7",
   "metadata": {},
   "outputs": [
    {
     "name": "stdout",
     "output_type": "stream",
     "text": [
      "0       1\n",
      "1       1\n",
      "2       0\n",
      "3       1\n",
      "4       1\n",
      "       ..\n",
      "5567    0\n",
      "5568    1\n",
      "5569    1\n",
      "5570    1\n",
      "5571    1\n",
      "Name: v1, Length: 5572, dtype: object\n"
     ]
    }
   ],
   "source": [
    "print(y)\n"
   ]
  },
  {
   "cell_type": "code",
   "execution_count": 39,
   "id": "bb7d72d1",
   "metadata": {},
   "outputs": [],
   "source": [
    "# split into train test sets\n",
    "#train-80\n",
    "#test-20\n",
    "x_train, x_test, y_train, y_test=train_test_split(x,y,test_size=0.2)"
   ]
  },
  {
   "cell_type": "code",
   "execution_count": 40,
   "id": "5c8cffc1",
   "metadata": {},
   "outputs": [],
   "source": [
    "# TfidfVectorizer(min_df=1, stop_words='english', lowercase=True): This line initializes a TF-IDF vectorizer with certain parameters:\n",
    "# min_df=1: This parameter specifies the minimum number of documents a word must appear in to be included in the vocabulary. In this case, it's set to 1, meaning that even words appearing in just one document will be considered.\n",
    "# stop_words='english': This parameter tells the vectorizer to remove English stop words (common words like \"the\", \"is\", \"and\", etc.) from the documents, as they often don't contribute much to the meaning.\n",
    "# lowercase=True: This parameter specifies whether to convert all text to lowercase before processing. This helps in ensuring that words with different cases (e.g., \"hello\" and \"Hello\") are treated as the same word."
   ]
  },
  {
   "cell_type": "code",
   "execution_count": 41,
   "id": "ccedf43f",
   "metadata": {},
   "outputs": [],
   "source": [
    "x_train = [str(doc) for doc in x_train]\n",
    "x_test = [str(doc) for doc in x_test]\n",
    "\n",
    "feature_extraction = TfidfVectorizer(min_df = 1, stop_words = 'english', lowercase=True)\n",
    "x_train_features = feature_extraction.fit_transform(x_train)\n",
    "x_test_features = feature_extraction.transform(x_test)\n",
    "\n",
    "y_train = y_train.astype('int')\n",
    "y_test = y_test.astype('int')"
   ]
  },
  {
   "cell_type": "code",
   "execution_count": 42,
   "id": "808210d2",
   "metadata": {},
   "outputs": [
    {
     "name": "stdout",
     "output_type": "stream",
     "text": [
      "  (0, 1999)\t0.31664107671486014\n",
      "  (0, 1148)\t0.23599474522296268\n",
      "  (0, 4511)\t0.20399825508486763\n",
      "  (0, 2965)\t0.3394229538383472\n",
      "  (0, 3659)\t0.2582918550878144\n",
      "  (0, 2229)\t0.21530846863003025\n",
      "  (0, 1548)\t0.33254811889871355\n",
      "  (0, 4524)\t0.285727995692045\n",
      "  (0, 2459)\t0.3049401162371403\n",
      "  (0, 4935)\t0.21093259390082705\n",
      "  (0, 981)\t0.33254811889871355\n",
      "  (0, 7074)\t0.22560642897889022\n",
      "  (0, 3211)\t0.2880155816619519\n",
      "  (1, 1858)\t0.3246554218431271\n",
      "  (1, 4801)\t0.3489204238016836\n",
      "  (1, 5136)\t0.46548739053612515\n",
      "  (1, 4949)\t0.2939382140995421\n",
      "  (1, 2820)\t0.40390263350382505\n",
      "  (1, 6408)\t0.3716495252558365\n",
      "  (1, 4163)\t0.4105051808339837\n",
      "  (2, 3251)\t0.7788686640166792\n",
      "  (2, 6047)\t0.6271870567963542\n",
      "  (3, 4339)\t0.12918564009574465\n",
      "  (3, 7098)\t0.13301588261694494\n",
      "  (3, 535)\t0.15224388589945037\n",
      "  :\t:\n",
      "  (4454, 2496)\t0.2261282533680302\n",
      "  (4454, 3174)\t0.2487865915084544\n",
      "  (4454, 1678)\t0.21883389773716977\n",
      "  (4454, 6632)\t0.14652793486281177\n",
      "  (4454, 4665)\t0.19961969708641403\n",
      "  (4454, 2855)\t0.13706427763233958\n",
      "  (4454, 4339)\t0.1546071073897272\n",
      "  (4455, 3467)\t0.7143036449815117\n",
      "  (4455, 6684)\t0.6998359113150217\n",
      "  (4456, 3329)\t0.28291926720338934\n",
      "  (4456, 1159)\t0.28291926720338934\n",
      "  (4456, 942)\t0.28291926720338934\n",
      "  (4456, 7373)\t0.28291926720338934\n",
      "  (4456, 6304)\t0.28291926720338934\n",
      "  (4456, 4814)\t0.28291926720338934\n",
      "  (4456, 5128)\t0.26974785486255326\n",
      "  (4456, 6534)\t0.2604025890836842\n",
      "  (4456, 3939)\t0.23063715967371043\n",
      "  (4456, 7031)\t0.2604025890836842\n",
      "  (4456, 2000)\t0.224714498623143\n",
      "  (4456, 4967)\t0.2604025890836842\n",
      "  (4456, 3285)\t0.2221143352883391\n",
      "  (4456, 4536)\t0.1539455260327147\n",
      "  (4456, 2935)\t0.21970696005564838\n",
      "  (4456, 2855)\t0.13620735122013278\n"
     ]
    }
   ],
   "source": [
    "print(x_train_features)"
   ]
  },
  {
   "cell_type": "code",
   "execution_count": 43,
   "id": "0289166a",
   "metadata": {},
   "outputs": [],
   "source": [
    "#Importing Logistic Regression\n",
    "\n",
    "from sklearn.linear_model import LogisticRegression\n"
   ]
  },
  {
   "cell_type": "code",
   "execution_count": null,
   "id": "18e01f8b",
   "metadata": {},
   "outputs": [],
   "source": [
    "#Creating a model\n",
    "\n",
    "model = LogisticRegression()"
   ]
  },
  {
   "cell_type": "code",
   "execution_count": 44,
   "id": "cd33d00f",
   "metadata": {},
   "outputs": [
    {
     "data": {
      "text/html": [
       "<style>#sk-container-id-2 {color: black;}#sk-container-id-2 pre{padding: 0;}#sk-container-id-2 div.sk-toggleable {background-color: white;}#sk-container-id-2 label.sk-toggleable__label {cursor: pointer;display: block;width: 100%;margin-bottom: 0;padding: 0.3em;box-sizing: border-box;text-align: center;}#sk-container-id-2 label.sk-toggleable__label-arrow:before {content: \"▸\";float: left;margin-right: 0.25em;color: #696969;}#sk-container-id-2 label.sk-toggleable__label-arrow:hover:before {color: black;}#sk-container-id-2 div.sk-estimator:hover label.sk-toggleable__label-arrow:before {color: black;}#sk-container-id-2 div.sk-toggleable__content {max-height: 0;max-width: 0;overflow: hidden;text-align: left;background-color: #f0f8ff;}#sk-container-id-2 div.sk-toggleable__content pre {margin: 0.2em;color: black;border-radius: 0.25em;background-color: #f0f8ff;}#sk-container-id-2 input.sk-toggleable__control:checked~div.sk-toggleable__content {max-height: 200px;max-width: 100%;overflow: auto;}#sk-container-id-2 input.sk-toggleable__control:checked~label.sk-toggleable__label-arrow:before {content: \"▾\";}#sk-container-id-2 div.sk-estimator input.sk-toggleable__control:checked~label.sk-toggleable__label {background-color: #d4ebff;}#sk-container-id-2 div.sk-label input.sk-toggleable__control:checked~label.sk-toggleable__label {background-color: #d4ebff;}#sk-container-id-2 input.sk-hidden--visually {border: 0;clip: rect(1px 1px 1px 1px);clip: rect(1px, 1px, 1px, 1px);height: 1px;margin: -1px;overflow: hidden;padding: 0;position: absolute;width: 1px;}#sk-container-id-2 div.sk-estimator {font-family: monospace;background-color: #f0f8ff;border: 1px dotted black;border-radius: 0.25em;box-sizing: border-box;margin-bottom: 0.5em;}#sk-container-id-2 div.sk-estimator:hover {background-color: #d4ebff;}#sk-container-id-2 div.sk-parallel-item::after {content: \"\";width: 100%;border-bottom: 1px solid gray;flex-grow: 1;}#sk-container-id-2 div.sk-label:hover label.sk-toggleable__label {background-color: #d4ebff;}#sk-container-id-2 div.sk-serial::before {content: \"\";position: absolute;border-left: 1px solid gray;box-sizing: border-box;top: 0;bottom: 0;left: 50%;z-index: 0;}#sk-container-id-2 div.sk-serial {display: flex;flex-direction: column;align-items: center;background-color: white;padding-right: 0.2em;padding-left: 0.2em;position: relative;}#sk-container-id-2 div.sk-item {position: relative;z-index: 1;}#sk-container-id-2 div.sk-parallel {display: flex;align-items: stretch;justify-content: center;background-color: white;position: relative;}#sk-container-id-2 div.sk-item::before, #sk-container-id-2 div.sk-parallel-item::before {content: \"\";position: absolute;border-left: 1px solid gray;box-sizing: border-box;top: 0;bottom: 0;left: 50%;z-index: -1;}#sk-container-id-2 div.sk-parallel-item {display: flex;flex-direction: column;z-index: 1;position: relative;background-color: white;}#sk-container-id-2 div.sk-parallel-item:first-child::after {align-self: flex-end;width: 50%;}#sk-container-id-2 div.sk-parallel-item:last-child::after {align-self: flex-start;width: 50%;}#sk-container-id-2 div.sk-parallel-item:only-child::after {width: 0;}#sk-container-id-2 div.sk-dashed-wrapped {border: 1px dashed gray;margin: 0 0.4em 0.5em 0.4em;box-sizing: border-box;padding-bottom: 0.4em;background-color: white;}#sk-container-id-2 div.sk-label label {font-family: monospace;font-weight: bold;display: inline-block;line-height: 1.2em;}#sk-container-id-2 div.sk-label-container {text-align: center;}#sk-container-id-2 div.sk-container {/* jupyter's `normalize.less` sets `[hidden] { display: none; }` but bootstrap.min.css set `[hidden] { display: none !important; }` so we also need the `!important` here to be able to override the default hidden behavior on the sphinx rendered scikit-learn.org. See: https://github.com/scikit-learn/scikit-learn/issues/21755 */display: inline-block !important;position: relative;}#sk-container-id-2 div.sk-text-repr-fallback {display: none;}</style><div id=\"sk-container-id-2\" class=\"sk-top-container\"><div class=\"sk-text-repr-fallback\"><pre>LogisticRegression()</pre><b>In a Jupyter environment, please rerun this cell to show the HTML representation or trust the notebook. <br />On GitHub, the HTML representation is unable to render, please try loading this page with nbviewer.org.</b></div><div class=\"sk-container\" hidden><div class=\"sk-item\"><div class=\"sk-estimator sk-toggleable\"><input class=\"sk-toggleable__control sk-hidden--visually\" id=\"sk-estimator-id-2\" type=\"checkbox\" checked><label for=\"sk-estimator-id-2\" class=\"sk-toggleable__label sk-toggleable__label-arrow\">LogisticRegression</label><div class=\"sk-toggleable__content\"><pre>LogisticRegression()</pre></div></div></div></div></div>"
      ],
      "text/plain": [
       "LogisticRegression()"
      ]
     },
     "execution_count": 44,
     "metadata": {},
     "output_type": "execute_result"
    }
   ],
   "source": [
    "#Passing the parameters that is input and output to the model\n",
    "\n",
    "model.fit(x_train_features, y_train)"
   ]
  },
  {
   "cell_type": "code",
   "execution_count": 45,
   "id": "8354652b",
   "metadata": {},
   "outputs": [],
   "source": [
    "#Lets make it simple, understand preiction_on_training_data as prediction\n",
    "# x_train_features as input data\n",
    "# y_train as expected outcome \n",
    "# training_data_accuracy as accuracy score between expected outcome and input of train data\n",
    "\n",
    "\n",
    "prediction_on_training_data = model.predict(x_train_features)\n",
    "training_data_accuracy = accuracy_score(y_train, prediction_on_training_data)"
   ]
  },
  {
   "cell_type": "code",
   "execution_count": 46,
   "id": "05c7b2e6",
   "metadata": {},
   "outputs": [
    {
     "name": "stdout",
     "output_type": "stream",
     "text": [
      "Accuracy of training data:  0.9670181736594121\n"
     ]
    }
   ],
   "source": [
    "#Printing Training Data Accuracy \n",
    "\n",
    "print('Accuracy of training data: ',training_data_accuracy)"
   ]
  },
  {
   "cell_type": "code",
   "execution_count": 47,
   "id": "0955a566",
   "metadata": {},
   "outputs": [],
   "source": [
    "#Here x_test_features is input\n",
    "# prediction_on_test_data is prediction\n",
    "# y_test as expected outcome\n",
    "#test_data_accuracy is accuracy score between expected outcome and input of test data\n",
    "\n",
    "prediction_on_test_data = model.predict(x_test_features)\n",
    "test_data_accuracy = accuracy_score(y_test, prediction_on_test_data)\n"
   ]
  },
  {
   "cell_type": "code",
   "execution_count": 48,
   "id": "f1a6738a",
   "metadata": {},
   "outputs": [
    {
     "name": "stdout",
     "output_type": "stream",
     "text": [
      "Accuracy of test data:  0.9587443946188341\n"
     ]
    }
   ],
   "source": [
    "#Printing Test Data Accuracy \n",
    "\n",
    "print('Accuracy of test data: ',test_data_accuracy)"
   ]
  },
  {
   "cell_type": "code",
   "execution_count": 49,
   "id": "2e068545",
   "metadata": {},
   "outputs": [
    {
     "name": "stdout",
     "output_type": "stream",
     "text": [
      "The given mail is not a Spam!!\n"
     ]
    }
   ],
   "source": [
    "mail_input = [\"Dear Akash Nivaria,Here's a confirmation that you've chosen to delete your Snapchat account akashnivaria.For now, your Snapchat account has been deactivated. In 30 days, your account will be deleted. If you'd like to reactivate your account before that happens, just log in to Snapchat 😉Hope to see you again soon! 👏Team Snapchat\"]\n",
    "\n",
    "input_data_features = feature_extraction.transform(mail_input)\n",
    "\n",
    "prediction = model.predict(input_data_features)\n",
    "\n",
    "\n",
    "if (prediction==0):\n",
    "    print(\"The given mail is a Spam!!\")\n",
    "else:\n",
    "    print(\"The given mail is not a Spam!!\")\n",
    "\n"
   ]
  },
  {
   "cell_type": "code",
   "execution_count": 50,
   "id": "32f2e75c",
   "metadata": {},
   "outputs": [
    {
     "name": "stdout",
     "output_type": "stream",
     "text": [
      "The given mail is a Spam!!\n"
     ]
    }
   ],
   "source": [
    "mail_input = [\"Dear Valued Customer,Congratulations! You've been selected as the winner of our exclusive vacation giveaway! You and a guest will enjoy a luxurious, all-expenses-paid vacation to a tropical paradise.But that's not all! As a bonus, you'll also receive a free 3-night stay at a 5-star resort and complimentary airfare. This is a once-in-a-lifetime opportunity that you won't want to miss!To claim your prize, simply click on the link below and provide your contact information:[Link to Claim Your Prize]Hurry, this offer is only available for a limited time! Don't miss out on your chance to experience the vacation of your dreams.Best Regards,The Vacation Giveaway Team\"]\n",
    "\n",
    "input_data_features = feature_extraction.transform(mail_input)\n",
    "\n",
    "prediction = model.predict(input_data_features)\n",
    "\n",
    "\n",
    "if (prediction==0):\n",
    "    print(\"The given mail is a Spam!!\")\n",
    "else:\n",
    "    print(\"The given mail is not a Spam!!\")"
   ]
  },
  {
   "cell_type": "code",
   "execution_count": null,
   "id": "c9f1220a",
   "metadata": {},
   "outputs": [],
   "source": []
  }
 ],
 "metadata": {
  "kernelspec": {
   "display_name": "Python 3 (ipykernel)",
   "language": "python",
   "name": "python3"
  },
  "language_info": {
   "codemirror_mode": {
    "name": "ipython",
    "version": 3
   },
   "file_extension": ".py",
   "mimetype": "text/x-python",
   "name": "python",
   "nbconvert_exporter": "python",
   "pygments_lexer": "ipython3",
   "version": "3.12.0"
  }
 },
 "nbformat": 4,
 "nbformat_minor": 5
}
